{
 "cells": [
  {
   "cell_type": "code",
   "execution_count": 8,
   "metadata": {},
   "outputs": [],
   "source": [
    "from youtube_transcript_api import YouTubeTranscriptApi\n",
    "import os\n",
    "\n",
    "def generate_english_transcript_files(video_ids):\n",
    "    for video_id in video_ids:\n",
    "        try:\n",
    "            # Get the list of available transcripts\n",
    "            transcript_list = YouTubeTranscriptApi.list_transcripts(video_id)\n",
    "            \n",
    "            try:\n",
    "                # Try to find an English transcript\n",
    "                transcript = transcript_list.find_transcript(['en'])\n",
    "            except:\n",
    "                # If no English transcript, get any available transcript and translate to English\n",
    "                transcript = transcript_list.find_transcript(['hi', 'en'])\n",
    "                transcript = transcript.translate('en')\n",
    "            \n",
    "            # Fetch the transcript\n",
    "            full_transcript = transcript.fetch()\n",
    "            \n",
    "            # Combine all text from the transcript\n",
    "            full_text = ' '.join([entry['text'] for entry in full_transcript])\n",
    "            \n",
    "            # Create a file name based on the video ID\n",
    "            file_name = f\"{video_id}_english_transcript.txt\"\n",
    "            \n",
    "            # Write the transcript to a file\n",
    "            with open(file_name, 'w', encoding='utf-8') as file:\n",
    "                file.write(full_text)\n",
    "            \n",
    "            print(f\"English transcript for video {video_id} has been saved to {file_name}\")\n",
    "        \n",
    "        except Exception as e:\n",
    "            print(f\"An error occurred while processing video {video_id}: {str(e)}\")\n",
    "\n",
    "# Example usage:\n",
    "# video_ids = ['dQw4w9WgXcQ', 'HINDI_VIDEO_ID', 'ANOTHER_VIDEO_ID']\n",
    "# generate_english_transcript_files(video_ids)"
   ]
  },
  {
   "cell_type": "code",
   "execution_count": 2,
   "metadata": {},
   "outputs": [],
   "source": [
    "videos = ['W5mg07oyUJQ', 'Wmt4To1ru-8', 'Oo0YbJ6b5sM', 'EIFNCLq7xrU', 'TWQpfq6VZbU']"
   ]
  },
  {
   "cell_type": "code",
   "execution_count": 9,
   "metadata": {},
   "outputs": [
    {
     "name": "stdout",
     "output_type": "stream",
     "text": [
      "English transcript for video W5mg07oyUJQ has been saved to W5mg07oyUJQ_english_transcript.txt\n",
      "English transcript for video Wmt4To1ru-8 has been saved to Wmt4To1ru-8_english_transcript.txt\n",
      "English transcript for video Oo0YbJ6b5sM has been saved to Oo0YbJ6b5sM_english_transcript.txt\n",
      "English transcript for video EIFNCLq7xrU has been saved to EIFNCLq7xrU_english_transcript.txt\n",
      "English transcript for video TWQpfq6VZbU has been saved to TWQpfq6VZbU_english_transcript.txt\n"
     ]
    }
   ],
   "source": [
    "generate_english_transcript_files(video_ids=videos)"
   ]
  },
  {
   "cell_type": "code",
   "execution_count": null,
   "metadata": {},
   "outputs": [],
   "source": []
  }
 ],
 "metadata": {
  "kernelspec": {
   "display_name": ".venv",
   "language": "python",
   "name": "python3"
  },
  "language_info": {
   "codemirror_mode": {
    "name": "ipython",
    "version": 3
   },
   "file_extension": ".py",
   "mimetype": "text/x-python",
   "name": "python",
   "nbconvert_exporter": "python",
   "pygments_lexer": "ipython3",
   "version": "3.10.14"
  }
 },
 "nbformat": 4,
 "nbformat_minor": 2
}
